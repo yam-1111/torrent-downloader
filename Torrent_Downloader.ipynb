{
  "nbformat": 4,
  "nbformat_minor": 0,
  "metadata": {
    "colab": {
      "provenance": []
    },
    "kernelspec": {
      "name": "python3",
      "display_name": "Python 3"
    },
    "language_info": {
      "name": "python"
    }
  },
  "cells": [
    {
      "cell_type": "markdown",
      "source": [
        "# **Torrent Downloader**\n",
        "**Important Note:** Set the runtime in GPU to give more space and fast speed in downloading.\n",
        "\n",
        "> Go to Runtime -> Change Runtime and give GPU as the Hardware Accelerator.  You will get around 384GB to download any torrent you want."
      ],
      "metadata": {
        "id": "2Mljj9uingN7"
      }
    },
    {
      "cell_type": "markdown",
      "source": [
        "# [1] **Install all necessary modules**\n",
        "This will initiate the downloads.\n",
        "\n",
        "\n",
        "\n",
        "[(fixed) Error on downloading libtorrent](https://stackoverflow.com/questions/66362159/modulenotfounderror-no-module-named-libtorrent)\n",
        "\n"
      ],
      "metadata": {
        "id": "gJ371C2UrsRj"
      }
    },
    {
      "cell_type": "code",
      "execution_count": null,
      "metadata": {
        "id": "DJKyC1ginV5S"
      },
      "outputs": [],
      "source": [
        "!python -m pip install --upgrade pip setuptools wheel\n",
        "!python -m pip install lbry-libtorrent\n",
        "!apt install python3-libtorrent\n",
        "import libtorrent as lt\n",
        "\n",
        "ses = lt.session()\n",
        "ses.listen_on(6881, 6891)\n",
        "downloads = []"
      ]
    },
    {
      "cell_type": "markdown",
      "source": [
        "#[2] **Mount the drive**\n",
        "In order to stream or download files, please mount your own personal google drive."
      ],
      "metadata": {
        "id": "8KGoMO7crae5"
      }
    },
    {
      "cell_type": "code",
      "source": [
        "from google.colab import drive\n",
        "\n",
        "drive.mount(\"/content/drive\")"
      ],
      "metadata": {
        "id": "FLCv_jXqrZQ7",
        "colab": {
          "base_uri": "https://localhost:8080/"
        },
        "outputId": "5f377afe-40b4-410b-ec02-10a2d8138a23"
      },
      "execution_count": null,
      "outputs": [
        {
          "output_type": "stream",
          "name": "stdout",
          "text": [
            "Mounted at /content/drive\n"
          ]
        }
      ]
    },
    {
      "cell_type": "markdown",
      "source": [
        "# [3] **Get your Torrent file or Magnet Links**\n",
        "Use the cell below to upload your `.torrent` file or copy the whole magnet link in your friendly torrent site."
      ],
      "metadata": {
        "id": "gPKk0VFHsbUW"
      }
    },
    {
      "cell_type": "markdown",
      "source": [
        "# .Torrent File\n",
        "Upload your `.torrent` file here"
      ],
      "metadata": {
        "id": "Mqq26VVQtmtT"
      }
    },
    {
      "cell_type": "code",
      "source": [
        "\n",
        "\n",
        "from google.colab import files\n",
        "\n",
        "source = files.upload()\n",
        "params = {\n",
        "    \"save_path\": \"/content/drive/My Drive/Torrent\",\n",
        "    \"ti\": lt.torrent_info(list(source.keys())[0]),\n",
        "}\n",
        "downloads.append(ses.add_torrent(params))"
      ],
      "metadata": {
        "id": "oqtXpF4rtmXn"
      },
      "execution_count": null,
      "outputs": []
    },
    {
      "cell_type": "markdown",
      "source": [
        "# Magnet Links\n",
        "Paste your magnet links here, after that input `q` to stop this cell \n",
        "\n",
        "- you can add many links as much as you can =) "
      ],
      "metadata": {
        "id": "MEgOLND9uG9_"
      }
    },
    {
      "cell_type": "code",
      "source": [
        "params = {\"save_path\": \"/content/drive/My Drive/Torrent\"}\n",
        "n=0\n",
        "while True:\n",
        "    n+=1\n",
        "    magnet_link = input(f\"[Link {n}] - Enter Magnet Link Or Type q to Exit: \")\n",
        "    if magnet_link.lower() == \"q\":\n",
        "        break\n",
        "    downloads.append(\n",
        "        lt.add_magnet_uri(ses, magnet_link, params)\n",
        "    )"
      ],
      "metadata": {
        "id": "n3-bZhXAupvM"
      },
      "execution_count": null,
      "outputs": []
    },
    {
      "cell_type": "markdown",
      "source": [
        "# [4] **Time to Download!**\n",
        "Click the cell to start the download. While downloading do your other task =) "
      ],
      "metadata": {
        "id": "VHx0Z84Au22D"
      }
    },
    {
      "cell_type": "code",
      "source": [
        "import time\n",
        "from IPython.display import display\n",
        "import ipywidgets as widgets\n",
        "\n",
        "state_str = [\n",
        "    \"queued\",\n",
        "    \"checking\",\n",
        "    \"downloading metadata\",\n",
        "    \"downloading\",\n",
        "    \"finished\",\n",
        "    \"seeding\",\n",
        "    \"allocating\",\n",
        "    \"checking fastresume\",\n",
        "]\n",
        "\n",
        "layout = widgets.Layout(width=\"auto\")\n",
        "style = {\"description_width\": \"initial\"}\n",
        "download_bars = [\n",
        "    widgets.FloatSlider(\n",
        "        step=0.01, disabled=True, layout=layout, style=style\n",
        "    )\n",
        "    for _ in downloads\n",
        "]\n",
        "display(*download_bars)\n",
        "\n",
        "while downloads:\n",
        "    next_shift = 0\n",
        "    for index, download in enumerate(downloads[:]):\n",
        "        bar = download_bars[index + next_shift]\n",
        "        if not download.is_seed():\n",
        "            s = download.status()\n",
        "\n",
        "            bar.description = \" \".join(\n",
        "                [\n",
        "                    download.name(),\n",
        "                    str(s.download_rate / 1000),\n",
        "                    \"kB/s\",\n",
        "                    state_str[s.state],\n",
        "                ]\n",
        "            )\n",
        "            bar.value = s.progress * 100\n",
        "        else:\n",
        "            next_shift -= 1\n",
        "            ses.remove_torrent(download)\n",
        "            downloads.remove(download)\n",
        "            bar.close() # Seems to be not working in Colab (see https://github.com/googlecolab/colabtools/issues/726#issue-486731758)\n",
        "            download_bars.remove(bar)\n",
        "            print(download.name(), \"Download Complete, check your drive\")\n",
        "    time.sleep(1)"
      ],
      "metadata": {
        "id": "qb236Rz3vbpL"
      },
      "execution_count": null,
      "outputs": []
    },
    {
      "cell_type": "markdown",
      "source": [
        "#**Stream my Gdrive files on VLC**\n",
        "\n",
        "**in order to stream the file, set it to anyone with the link.**\n",
        "\n",
        "*Prerequisities:*\n",
        "- Your Google Drive file link [Copy the id only! after the /d/<id>] \n",
        "- Your same google drive account api key get from google cloud\n",
        "\n",
        "*How to use this:*\n",
        "- 1.) Paste the video from your google drive *make sure set it to public*\n",
        "\n",
        "- 2.) Paste the Drive API key created from [google cloud console](https://console.cloud.google.com/)"
      ],
      "metadata": {
        "id": "GYIvLIX0zYsU"
      }
    },
    {
      "cell_type": "code",
      "source": [
        "import re\n",
        "\n",
        "def gdrive_link_filter(gdrive_id):\n",
        "  string1 = re.sub(r\"https:\\/\\/drive\\.google\\.com\\/file\\/d\\/\", \"\", gdrive_id)\n",
        "  string2 = re.sub(r\"\\/view\\?usp=share_link\", \"\", string1)\n",
        "  return string2\n",
        "  \n",
        "while True:\n",
        "  gdrive_file = str(input('Please input the Google Drive file you want to stream [copy the id only]: '))\n",
        "  if gdrive_file !='':\n",
        "    api_key = str(input('Please input you api key from the Google Cloud: '))\n",
        "    if api_key !='':\n",
        "      media = f'https://www.googleapis.com/drive/v3/files/{gdrive_link_filter(gdrive_file)}?alt=media&key={api_key}'\n",
        "      print(\"here's your streamble link: doesnt work? check your file id?\")\n",
        "      print('='*20)\n",
        "      print(media)\n",
        "      break\n",
        "    \n",
        "\n"
      ],
      "metadata": {
        "id": "U_ZrcgTMzcPx"
      },
      "execution_count": null,
      "outputs": []
    }
  ]
}